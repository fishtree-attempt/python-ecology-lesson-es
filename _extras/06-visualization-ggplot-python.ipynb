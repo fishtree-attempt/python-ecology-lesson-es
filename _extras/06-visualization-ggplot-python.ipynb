{
 "cells": [
  {
   "cell_type": "markdown",
   "metadata": {
    "deletable": true,
    "editable": true,
    "toc": "true"
   },
   "source": [
    "# Table of Contents\n",
    " <p><div class=\"lev1\"><a href=\"#Learning-Objectives\"><span class=\"toc-item-num\">1&nbsp;&nbsp;</span>Learning Objectives</a></div><div class=\"lev2\"><a href=\"#Disclaimer\"><span class=\"toc-item-num\">1.1&nbsp;&nbsp;</span>Disclaimer</a></div><div class=\"lev1\"><a href=\"#Plotting-with-ggplot\"><span class=\"toc-item-num\">2&nbsp;&nbsp;</span>Plotting with ggplot</a></div><div class=\"lev1\"><a href=\"#Building-your-plots-iteratively\"><span class=\"toc-item-num\">3&nbsp;&nbsp;</span>Building your plots iteratively</a></div><div class=\"lev1\"><a href=\"#Boxplot\"><span class=\"toc-item-num\">4&nbsp;&nbsp;</span>Boxplot</a></div><div class=\"lev2\"><a href=\"#Challenges\"><span class=\"toc-item-num\">4.1&nbsp;&nbsp;</span>Challenges</a></div><div class=\"lev1\"><a href=\"#Plotting-time-series-data\"><span class=\"toc-item-num\">5&nbsp;&nbsp;</span>Plotting time series data</a></div><div class=\"lev1\"><a href=\"#Faceting\"><span class=\"toc-item-num\">6&nbsp;&nbsp;</span>Faceting</a></div><div class=\"lev1\"><a href=\"#Challenge\"><span class=\"toc-item-num\">7&nbsp;&nbsp;</span>Challenge</a></div><div class=\"lev1\"><a href=\"#Customization\"><span class=\"toc-item-num\">8&nbsp;&nbsp;</span>Customization</a></div>"
   ]
  },
  {
   "cell_type": "markdown",
   "metadata": {
    "deletable": true,
    "editable": true
   },
   "source": [
    "# Learning Objectives #\n",
    "By the end of this lesson the learner will:\n",
    "\n",
    "* Create a ggplot object\n",
    "* Set universal plot settings\n",
    "* Modify an existing ggplot object\n",
    "* Change the aesthetics of a plot such as colour\n",
    "* Edit the axis labels\n",
    "* Build complex plots using a step-by-step approach\n",
    "* Create scatter plots, box plots, and time series plots\n",
    "* Use the facet_wrap and facet_grid commands to create a collection of plots splitting the data by a factor variable\n",
    "* Create customized plot styles to meet their needs\n",
    "\n",
    "## Disclaimer ##\n",
    " Python has powerful built-in plotting capabilities such as `matplotlib`, but for this exercise, we will be using the [`ggplot`](http://ggplot.yhathq.com/) package, which facilitates the creation of highly-informative plots of structured data based on the R implementation of [`ggplot2`](http://ggplot2.org/) and [The Grammar of Graphics](http://link.springer.com/book/10.1007%2F0-387-28695-0) by Leland Wilkinson.\n",
    "\n"
   ]
  },
  {
   "cell_type": "code",
   "execution_count": null,
   "metadata": {
    "Rmd_chunk_options": "echo=FALSE, purl=FALSE",
    "autoscroll": false,
    "collapsed": false,
    "deletable": true,
    "editable": true,
    "scrolled": false
   },
   "outputs": [],
   "source": [
    "import pandas as pd\n",
    "\n",
    "\n",
    "surveys_complete = pd.read_csv('data_output/surveys_complete.csv')\n",
    "surveys_complete"
   ]
  },
  {
   "cell_type": "code",
   "execution_count": null,
   "metadata": {
    "Rmd_chunk_options": "purl=FALSE",
    "autoscroll": false,
    "collapsed": false,
    "deletable": true,
    "editable": true
   },
   "outputs": [],
   "source": [
    "%matplotlib inline\n",
    "from ggplot import *"
   ]
  },
  {
   "cell_type": "markdown",
   "metadata": {
    "deletable": true,
    "editable": true
   },
   "source": [
    "\n",
    "# Plotting with ggplot\n",
    "\n",
    "We will make the same plot using the `ggplot` package.\n",
    "\n",
    "`ggplot` is a plotting package that makes it simple to create complex plots\n",
    "from data in a dataframe. It uses default settings, which help creating\n",
    "publication quality plots with a minimal amount of settings and tweaking.\n",
    "\n",
    "ggplot graphics are built step by step by adding new elements.\n",
    "\n",
    "To build a ggplot we need to:\n",
    "\n",
    "- bind the plot to a specific data frame using the `data` argument\n",
    "\n"
   ]
  },
  {
   "cell_type": "markdown",
   "metadata": {
    "deletable": true,
    "editable": true
   },
   "source": [
    "\n",
    "- define aesthetics (`aes`), by selecting the variables to be plotted and the variables to define the presentation\n",
    "     such as plotting size, shape color, etc.,\n",
    "\n"
   ]
  },
  {
   "cell_type": "code",
   "execution_count": null,
   "metadata": {
    "Rmd_chunk_options": "eval=FALSE, purl=FALSE",
    "autoscroll": false,
    "collapsed": false,
    "deletable": true,
    "editable": true
   },
   "outputs": [],
   "source": [
    "ggplot( aesthetics= aes(x = 'weight', y = 'hindfoot_length'), data = surveys_complete)"
   ]
  },
  {
   "cell_type": "markdown",
   "metadata": {
    "deletable": true,
    "editable": true
   },
   "source": [
    "\n",
    "- add `geoms` -- graphical representation of the data in the plot (points,\n",
    "     lines, bars). To add a geom to the plot use `+` operator:\n",
    "\n"
   ]
  },
  {
   "cell_type": "code",
   "execution_count": null,
   "metadata": {
    "Rmd_chunk_options": "first-ggplot, purl=FALSE",
    "autoscroll": false,
    "collapsed": false,
    "deletable": true,
    "editable": true
   },
   "outputs": [],
   "source": [
    "ggplot( aes(x = 'weight', y = 'hindfoot_length'), data = surveys_complete) + geom_point()"
   ]
  },
  {
   "cell_type": "markdown",
   "metadata": {
    "deletable": true,
    "editable": true
   },
   "source": [
    "\n",
    "The `+` in the `ggplot2` package is particularly useful because it allows you\n",
    "to modify existing `ggplot` objects. This means you can easily set up plot\n",
    "\"templates\" and conveniently explore different types of plots, so the above\n",
    "plot can also be generated with code like this:\n",
    "\n"
   ]
  },
  {
   "cell_type": "code",
   "execution_count": null,
   "metadata": {
    "Rmd_chunk_options": "first-ggplot-with-plus, eval=FALSE, purl=FALSE",
    "autoscroll": false,
    "collapsed": false,
    "deletable": true,
    "editable": true
   },
   "outputs": [],
   "source": [
    "# Create\n",
    "surveys_plot = ggplot( aes(x = 'weight', y = 'hindfoot_length'), data = surveys_complete)\n",
    "\n",
    "# Draw the plot\n",
    "surveys_plot + geom_point()"
   ]
  },
  {
   "cell_type": "markdown",
   "metadata": {
    "deletable": true,
    "editable": true
   },
   "source": [
    "\n",
    "Notes:\n",
    "\n",
    "- Anything you put in the `ggplot()` function can be seen by any geom layers\n",
    "  that you add (i.e., these are universal plot settings). This includes the x and\n",
    "  y axis you set up in `aes()`.\n",
    "- You can also specify aesthetics for a given geom independently of the\n",
    "  aesthetics defined globally in the `ggplot()` function.\n",
    "\n",
    "\n",
    "# Building your plots iteratively\n",
    "\n",
    "Building plots with ggplot is typically an iterative process. We start by\n",
    "defining the dataset we'll use, lay the axes, and choose a geom.\n",
    "\n"
   ]
  },
  {
   "cell_type": "code",
   "execution_count": null,
   "metadata": {
    "Rmd_chunk_options": "create-ggplot-object, purl=FALSE",
    "autoscroll": false,
    "collapsed": false,
    "deletable": true,
    "editable": true
   },
   "outputs": [],
   "source": [
    "ggplot(aes(x = 'weight', y = 'hindfoot_length'), data = surveys_complete, ) + geom_point()"
   ]
  },
  {
   "cell_type": "markdown",
   "metadata": {
    "deletable": true,
    "editable": true
   },
   "source": [
    "\n",
    "Then, we start modifying this plot to extract more information from it. For\n",
    "instance, we can add transparency (alpha) to avoid overplotting.\n",
    "\n"
   ]
  },
  {
   "cell_type": "code",
   "execution_count": null,
   "metadata": {
    "Rmd_chunk_options": "adding-transparency, purl=FALSE",
    "autoscroll": false,
    "collapsed": false,
    "deletable": true,
    "editable": true
   },
   "outputs": [],
   "source": [
    "ggplot(aes(x = 'weight', y = 'hindfoot_length'), data = surveys_complete) + \\\n",
    "    geom_point(alpha = 0.1)"
   ]
  },
  {
   "cell_type": "markdown",
   "metadata": {
    "deletable": true,
    "editable": true
   },
   "source": [
    "\n",
    "We can also add colors for all the points\n",
    "\n"
   ]
  },
  {
   "cell_type": "code",
   "execution_count": null,
   "metadata": {
    "Rmd_chunk_options": "adding-colors, purl=FALSE",
    "autoscroll": false,
    "collapsed": false,
    "deletable": true,
    "editable": true
   },
   "outputs": [],
   "source": [
    "ggplot(aes(x = 'weight', y = 'hindfoot_length'),data = surveys_complete) + \\\n",
    "    geom_point(alpha = 0.1, color = \"blue\")"
   ]
  },
  {
   "cell_type": "markdown",
   "metadata": {
    "deletable": true,
    "editable": true
   },
   "source": [
    "\n",
    "Or to color each species in the plot differently:\n",
    "\n"
   ]
  },
  {
   "cell_type": "code",
   "execution_count": null,
   "metadata": {
    "Rmd_chunk_options": "color-by-species, purl=FALSE",
    "autoscroll": false,
    "collapsed": false,
    "deletable": true,
    "editable": true
   },
   "outputs": [],
   "source": [
    "# ggplot(data = surveys_complete, aes(x = weight, y = hindfoot_length)) +\n",
    "#    geom_point(alpha = 0.1, aes(color=species_id))\n",
    "\n",
    "ggplot(aes(x = 'weight', y = 'hindfoot_length', color='species_id'),data = surveys_complete) + \\\n",
    "    geom_point( alpha = 0.1)"
   ]
  },
  {
   "cell_type": "markdown",
   "metadata": {
    "deletable": true,
    "editable": true
   },
   "source": [
    "\n",
    "# Boxplot\n",
    "\n",
    "Visualising the distribution of weight within each species.\n",
    "\n"
   ]
  },
  {
   "cell_type": "markdown",
   "metadata": {
    "Rmd_chunk_options": "boxplot, purl=FALSE",
    "autoscroll": false,
    "collapsed": true,
    "deletable": true,
    "editable": true
   },
   "source": [
    "R code:\n",
    "\n",
    "```R\n",
    "ggplot(data = surveys_complete, aes(x = species_id, y = hindfoot_length)) +\n",
    "    geom_boxplot()\n",
    "```"
   ]
  },
  {
   "cell_type": "code",
   "execution_count": null,
   "metadata": {
    "Rmd_chunk_options": "boxplot, purl=FALSE",
    "autoscroll": false,
    "collapsed": false,
    "deletable": true,
    "editable": true,
    "scrolled": false
   },
   "outputs": [],
   "source": [
    "ggplot( aes(x = 'species_id', y = 'hindfoot_length'), data = surveys_complete) + geom_boxplot()"
   ]
  },
  {
   "cell_type": "markdown",
   "metadata": {
    "deletable": true,
    "editable": true
   },
   "source": [
    "\n",
    "By adding points to boxplot, we can have a better idea of the number of\n",
    "measurements and of their distribution:\n",
    "\n"
   ]
  },
  {
   "cell_type": "markdown",
   "metadata": {
    "Rmd_chunk_options": "boxplot-with-points, purl=FALSE",
    "autoscroll": false,
    "collapsed": true,
    "deletable": true,
    "editable": true
   },
   "source": [
    "R code:\n",
    "```R\n",
    "ggplot(data = surveys_complete, aes(x = species_id, y = hindfoot_length)) +\n",
    "    geom_jitter(alpha = 0.3, color = \"tomato\") +\n",
    "  geom_boxplot(alpha = 0)\n",
    "```"
   ]
  },
  {
   "cell_type": "code",
   "execution_count": null,
   "metadata": {
    "collapsed": false,
    "deletable": true,
    "editable": true
   },
   "outputs": [],
   "source": [
    "surveys_complete['species_factor'] = surveys_complete['species_id'].astype('category').cat.codes\n",
    "\n",
    "\n",
    "xlabels = sorted(set(surveys_complete['species_id'].values) )\n",
    "xcodes = sorted(set(surveys_complete['species_factor'].values))\n",
    "\n",
    "ggplot(aes(x = 'species_factor', y = 'hindfoot_length'),data = surveys_complete) + \\\n",
    "    geom_point(position='jitter',alpha=0.7,jittersize=0.4) + \\\n",
    "        scale_x_continuous(breaks=xcodes, labels=xlabels) + \\\n",
    "                         xlab('species_id') + geom_boxplot(alpha=0)\n"
   ]
  },
  {
   "cell_type": "markdown",
   "metadata": {
    "deletable": true,
    "editable": true
   },
   "source": [
    "\n",
    "Notice how the boxplot layer is behind the jitter layer? What do you need to\n",
    "change in the code to put the boxplot in front of the points such that it's not\n",
    "hidden.\n",
    "\n",
    "## Challenges\n",
    "\n",
    "> Boxplots are useful summaries, but hide the *shape* of the distribution. For\n",
    "> example, if there is a bimodal distribution, this would not be observed with a\n",
    "> boxplot. An alternative to the boxplot is the violin plot (sometimes known as a\n",
    "> beanplot), where the shape (of the density of points) is drawn.\n",
    ">\n",
    "> - Replace the box plot with a violin plot; see `geom_violin()`\n",
    ">\n",
    "> In many types of data, it is important to consider the *scale* of the\n",
    "> observations.  For example, it may be worth changing the scale of the axis to\n",
    "> better distribute the observations in the space of the plot.  Changing the scale\n",
    "> of the axes is done similarly to adding/modifying other components (i.e., by\n",
    "> incrementally adding commands).\n",
    ">\n",
    "> - Represent weight on the log10 scale; see `scale_y_log10()`\n",
    ">\n",
    "> - Create boxplot for `hindfoot_length`.\n",
    ">\n",
    "> - Add color to the datapoints on your boxplot according to the plot from which\n",
    ">   the sample was taken (`site_id`)\n",
    "\n",
    "Hint: Check the class for `site_id`. Consider changing the class of `site_id`\n",
    "from integer to factor. Why does this change how R makes the graph?\n",
    "\n"
   ]
  },
  {
   "cell_type": "code",
   "execution_count": null,
   "metadata": {
    "collapsed": false,
    "deletable": true,
    "editable": true
   },
   "outputs": [],
   "source": [
    "## Challenges:\n",
    "##  Start with the boxplot we created:\n",
    "ggplot(aes(x = 'species_factor', y = 'hindfoot_length'),data = surveys_complete) + \\\n",
    "    geom_jitter(alpha=0.3) + \\\n",
    "        scale_x_discrete(breaks=xcodes, labels=xlabels) + \\\n",
    "                         xlab('species_id') + geom_boxplot(alpha=0)"
   ]
  },
  {
   "cell_type": "code",
   "execution_count": null,
   "metadata": {
    "collapsed": false,
    "deletable": true,
    "editable": true
   },
   "outputs": [],
   "source": [
    "##  1. Replace the box plot with a violin plot; see `geom_violin()`.\n",
    "\n",
    "ggplot(aes(x = 'species_factor', y = 'hindfoot_length'),data = surveys_complete) + \\\n",
    "    geom_jitter(alpha=0.3) + \\\n",
    "        scale_x_discrete(breaks=xcodes, labels=xlabels) + \\\n",
    "                         xlab('species_id') + geom_violin(alpha=0)"
   ]
  },
  {
   "cell_type": "code",
   "execution_count": null,
   "metadata": {
    "collapsed": false,
    "deletable": true,
    "editable": true
   },
   "outputs": [],
   "source": [
    "##  2. Represent weight on the log10 scale; see `scale_y_log10()`.\n",
    "ggplot(aes(x = 'species_factor', y = 'hindfoot_length'),data = surveys_complete) + \\\n",
    "    geom_jitter(alpha=0.3) + \\\n",
    "        scale_x_discrete(breaks=xcodes, labels=xlabels) + \\\n",
    "                         xlab('species_id') + geom_violin(alpha=0) + \\\n",
    "            scale_y_log(base=10)"
   ]
  },
  {
   "cell_type": "code",
   "execution_count": null,
   "metadata": {
    "collapsed": false,
    "deletable": true,
    "editable": true
   },
   "outputs": [],
   "source": [
    "##  3. Create boxplot for `hindfoot_length`.\n",
    "ggplot(aes(x = 'species_factor', y = 'hindfoot_length'),data = surveys_complete) + \\\n",
    "    geom_jitter(alpha=0.01) + \\\n",
    "        scale_x_discrete(breaks=xcodes, labels=xlabels) + \\\n",
    "                         xlab('species_id') + geom_boxplot(alpha=0) + \\\n",
    "            scale_y_log(base=10)\n",
    "            "
   ]
  },
  {
   "cell_type": "code",
   "execution_count": null,
   "metadata": {
    "Rmd_chunk_options": "eval=FALSE, purl=TRUE, echo=FALSE",
    "autoscroll": false,
    "collapsed": false,
    "deletable": true,
    "editable": true
   },
   "outputs": [],
   "source": [
    "##  4. Add color to the datapoints on your boxplot according to the\n",
    "##  plot from which the sample was taken (`site_id`).\n",
    "##  Hint: Check the class for `site_id`. Consider changing the class\n",
    "##  of `site_id` from integer to factor. Why does this change how R\n",
    "##  makes the graph?\n",
    "\n",
    "ggplot(aes(x = 'species_factor', y = 'hindfoot_length', color='site_id'),data = surveys_complete) + \\\n",
    "    geom_jitter(alpha=0.01) + \\\n",
    "        scale_x_discrete(breaks=xcodes, labels=xlabels) + \\\n",
    "                         xlab('species_id') + geom_boxplot(alpha=0) + \\\n",
    "            scale_y_log(base=10)\n",
    "     "
   ]
  },
  {
   "cell_type": "markdown",
   "metadata": {
    "deletable": true,
    "editable": true
   },
   "source": [
    "\n",
    "\n",
    "# Plotting time series data\n",
    "\n",
    "Let's calculate number of counts per year for each species. To do that we need\n",
    "to group data first and count records within each group.\n",
    "\n"
   ]
  },
  {
   "cell_type": "code",
   "execution_count": null,
   "metadata": {
    "Rmd_chunk_options": "purl=FALSE",
    "autoscroll": false,
    "collapsed": false,
    "deletable": true,
    "editable": true
   },
   "outputs": [],
   "source": [
    "yearly_counts = surveys_complete[['year','species_id']].groupby(['year', 'species_id']).size().reset_index()\n",
    "yearly_counts.columns = ['year','species_id', 'n']\n",
    "yearly_counts"
   ]
  },
  {
   "cell_type": "markdown",
   "metadata": {
    "deletable": true,
    "editable": true
   },
   "source": [
    "\n",
    "Timelapse data can be visualised as a line plot with years on x axis and counts\n",
    "on y axis.\n",
    "\n"
   ]
  },
  {
   "cell_type": "code",
   "execution_count": null,
   "metadata": {
    "Rmd_chunk_options": "first-time-series, purl=FALSE",
    "autoscroll": false,
    "collapsed": false,
    "deletable": true,
    "editable": true
   },
   "outputs": [],
   "source": [
    "ggplot(aes(x = 'year', y = 'n'),data = yearly_counts) + \\\n",
    "     geom_line()"
   ]
  },
  {
   "cell_type": "markdown",
   "metadata": {
    "deletable": true,
    "editable": true
   },
   "source": [
    "\n",
    "Unfortunately this does not work, because we plot data for all the species\n",
    "together. We need to tell ggplot to draw a line for each species by modifying\n",
    "the aesthetic function to include `group = species_id`.\n",
    "\n"
   ]
  },
  {
   "cell_type": "code",
   "execution_count": null,
   "metadata": {
    "collapsed": false,
    "deletable": true,
    "editable": true
   },
   "outputs": [],
   "source": [
    "ggplot(aes(x = 'year', y = 'n', group='species_id'),data = yearly_counts) + geom_line()"
   ]
  },
  {
   "cell_type": "markdown",
   "metadata": {
    "deletable": true,
    "editable": true
   },
   "source": [
    "\n",
    "We will be able to distinguish species in the plot if we add colors.\n",
    "\n"
   ]
  },
  {
   "cell_type": "code",
   "execution_count": null,
   "metadata": {
    "Rmd_chunk_options": "time-series-by-species, purl=FALSE",
    "autoscroll": false,
    "collapsed": false,
    "deletable": true,
    "editable": true
   },
   "outputs": [],
   "source": [
    "ggplot(aes(x = 'year', y = 'n', color='species_id'),data = yearly_counts) + geom_line()"
   ]
  },
  {
   "cell_type": "markdown",
   "metadata": {
    "deletable": true,
    "editable": true
   },
   "source": [
    "\n",
    "# Faceting\n",
    "\n",
    "ggplot has a special technique called *faceting* that allows to split one plot\n",
    "into multiple plots based on a factor included in the dataset. We will use it to\n",
    "make one plot for a time series for each species.\n",
    "\n"
   ]
  },
  {
   "cell_type": "markdown",
   "metadata": {
    "deletable": true,
    "editable": true
   },
   "source": [
    "\n",
    "Now we would like to split line in each plot by sex of each individual\n",
    "measured. To do that we need to make counts in data frame grouped by year,\n",
    "species_id, and sex:\n",
    "\n"
   ]
  },
  {
   "cell_type": "code",
   "execution_count": null,
   "metadata": {
    "collapsed": false,
    "deletable": true,
    "editable": true
   },
   "outputs": [],
   "source": [
    "yearly_sex_counts = surveys_complete.groupby( ['year','species_id', 'sex']).count()\n",
    "yearly_sex_counts['n']  = yearly_sex_counts['record_id']\n",
    "yearly_sex_counts = yearly_sex_counts['n'].reset_index()\n",
    "yearly_sex_counts"
   ]
  },
  {
   "cell_type": "markdown",
   "metadata": {
    "deletable": true,
    "editable": true
   },
   "source": [
    "\n",
    "We can now make the faceted plot splitting further by sex (within a single plot):\n",
    "\n"
   ]
  },
  {
   "cell_type": "code",
   "execution_count": null,
   "metadata": {
    "Rmd_chunk_options": "facet-by-species-and-sex, purl=FALSE",
    "autoscroll": false,
    "collapsed": false,
    "deletable": true,
    "editable": true
   },
   "outputs": [],
   "source": [
    " ggplot(aes(x = \"year\", y = \"n\", color = \"species_id\", group = \"sex\"), data = yearly_sex_counts, ) + \\\n",
    "     geom_line() + \\\n",
    "         facet_wrap( \"species_id\")"
   ]
  },
  {
   "cell_type": "markdown",
   "metadata": {
    "deletable": true,
    "editable": true
   },
   "source": [
    "\n",
    "Usually plots with white background look more readable when printed.  We can set\n",
    "the background to white using the function `theme_bw()`. Additionally you can also remove\n",
    "the grid.\n",
    "\n"
   ]
  },
  {
   "cell_type": "code",
   "execution_count": null,
   "metadata": {
    "Rmd_chunk_options": "facet-by-species-and-sex-white-bg, purl=FALSE",
    "autoscroll": false,
    "collapsed": false,
    "deletable": true,
    "editable": true
   },
   "outputs": [],
   "source": [
    " ggplot(aes(x = \"year\", y = \"n\", color = \"species_id\", group = \"sex\"),data = yearly_sex_counts ) + \\\n",
    "     geom_line() + \\\n",
    "            facet_wrap( \"species_id\") + \\\n",
    "                theme_bw() + \\\n",
    "                theme()"
   ]
  },
  {
   "cell_type": "markdown",
   "metadata": {
    "deletable": true,
    "editable": true
   },
   "source": [
    "\n",
    "To make the plot easier to read, we can color by sex instead of species (species\n",
    "are already in separate plots, so we don't need to distinguish them further).\n",
    "\n"
   ]
  },
  {
   "cell_type": "code",
   "execution_count": null,
   "metadata": {
    "Rmd_chunk_options": "facet-by-species-and-sex-colored, purl=FALSE",
    "autoscroll": false,
    "collapsed": false,
    "deletable": true,
    "editable": true
   },
   "outputs": [],
   "source": [
    "ggplot(aes(x = \"year\", y = \"n\", color = \"sex\", group = \"sex\"), data = yearly_sex_counts) + \\\n",
    "    geom_line() + \\\n",
    "    facet_wrap(\"species_id\") + \\\n",
    "    theme_bw() "
   ]
  },
  {
   "cell_type": "markdown",
   "metadata": {
    "deletable": true,
    "editable": true
   },
   "source": [
    "\n",
    "\n",
    "# Challenge\n",
    "\n",
    "> Use what you just learned to create a plot that depicts how the average weight\n",
    "> of each species changes through the years.\n",
    "\n",
    "<!-- Answer\n"
   ]
  },
  {
   "cell_type": "code",
   "execution_count": null,
   "metadata": {
    "collapsed": false,
    "deletable": true,
    "editable": true
   },
   "outputs": [],
   "source": [
    "yearly_weight = surveys_complete[[\"year\", \"species_id\",\"weight\"]].groupby([\"year\", \"species_id\"]).mean().reset_index()\n",
    "yearly_weight.columns =   [\"year\", \"species_id\",\"avg_weight\"]  \n",
    "yearly_weight"
   ]
  },
  {
   "cell_type": "code",
   "execution_count": null,
   "metadata": {
    "Rmd_chunk_options": "average-weight-timeseries, purl=FALSE",
    "autoscroll": false,
    "collapsed": false,
    "deletable": true,
    "editable": true
   },
   "outputs": [],
   "source": [
    "ggplot( aes(x=\"year\", y=\"avg_weight\", color = \"species_id\", group = \"species_id\"),data = yearly_weight) + \\\n",
    "    geom_line() + \\\n",
    "    facet_wrap(\"species_id\") + \\\n",
    "    theme_bw()"
   ]
  },
  {
   "cell_type": "code",
   "execution_count": null,
   "metadata": {
    "Rmd_chunk_options": "eval=FALSE, purl=TRUE, echo=FALSE",
    "autoscroll": false,
    "collapsed": true,
    "deletable": true,
    "editable": true
   },
   "outputs": [],
   "source": [
    "## Plotting time series challenge:\n",
    "##  Use what you just learned to create a plot that depicts how the\n",
    "##  average weight of each species changes through the years.\n"
   ]
  },
  {
   "cell_type": "markdown",
   "metadata": {
    "deletable": true,
    "editable": true
   },
   "source": [
    "\n",
    "The `facet_wrap` geometry extracts plots into an arbitrary number of dimensions\n",
    "to allow them to cleanly fit on one page. On the other hand, the `facet_grid`\n",
    "geometry allows you to explicitly specify how you want your plots to be\n",
    "arranged via formula notation (`rows ~ columns`; a `.` can be used as\n",
    "a placeholder that indicates only one row or column).\n",
    "\n",
    "Let's modify the previous plot to compare how the weights of male and females\n",
    "has changed through time.\n",
    "\n"
   ]
  },
  {
   "cell_type": "code",
   "execution_count": null,
   "metadata": {
    "collapsed": false,
    "deletable": true,
    "editable": true
   },
   "outputs": [],
   "source": [
    "## One column, facet by rows\n",
    "yearly_sex_weight = surveys_complete[\n",
    "    ['year','sex','species_id','weight']].groupby(\n",
    "    [\"year\", \"sex\", \"species_id\"]).mean().reset_index()\n",
    "yearly_sex_weight.columns = ['year','sex','species_id','avg_weight']\n",
    "yearly_sex_weight"
   ]
  },
  {
   "cell_type": "code",
   "execution_count": null,
   "metadata": {
    "Rmd_chunk_options": "average-weight-time-facet_sex_rows, purl=FALSE",
    "autoscroll": false,
    "collapsed": false,
    "deletable": true,
    "editable": true
   },
   "outputs": [],
   "source": [
    "ggplot( aes(x=\"year\", y=\"avg_weight\", color = \"species_id\", group = \"species_id\"),data = yearly_sex_weight) + \\\n",
    "    geom_line() + \\\n",
    "    facet_grid(\"sex\")"
   ]
  },
  {
   "cell_type": "code",
   "execution_count": null,
   "metadata": {
    "Rmd_chunk_options": "average-weight-time-facet_sex_rows, purl=FALSE",
    "autoscroll": false,
    "collapsed": false,
    "deletable": true,
    "editable": true
   },
   "outputs": [],
   "source": [
    "# One row, facet by column\n",
    "ggplot( aes(x=\"year\", y=\"avg_weight\", color = \"species_id\", group = \"species_id\"),data = yearly_sex_weight) + \\\n",
    "    geom_line() + \\\n",
    "    facet_grid(None, \"sex\")"
   ]
  },
  {
   "cell_type": "markdown",
   "metadata": {
    "deletable": true,
    "editable": true
   },
   "source": [
    "\n",
    "# Customization\n",
    "\n",
    "Take a look at the ggplot2 cheat sheet\n",
    "(https://www.rstudio.com/wp-content/uploads/2015/08/ggplot2-cheatsheet.pdf), and\n",
    "think of ways to improve the plot. You can write down some of your ideas as\n",
    "comments in the Etherpad.\n",
    "\n",
    "Now, let's change names of axes to something more informative than 'year'\n",
    "and 'n' and add a title to this figure:\n",
    "\n"
   ]
  },
  {
   "cell_type": "code",
   "execution_count": null,
   "metadata": {
    "Rmd_chunk_options": "number_species_year_with_right_labels, purl=FALSE",
    "autoscroll": false,
    "collapsed": false,
    "deletable": true,
    "editable": true
   },
   "outputs": [],
   "source": [
    "ggplot( aes(x = \"year\", y = \"n\", color = \"sex\", group = \"sex\"),data = yearly_sex_counts) + \\\n",
    "    geom_line() + \\\n",
    "    facet_wrap( \"species_id\" ) + \\\n",
    "    labs(title = 'Observed species in time',\n",
    "         x = 'Year of observation',\n",
    "         y = 'Number of species') + \\\n",
    "    theme_bw() "
   ]
  },
  {
   "cell_type": "markdown",
   "metadata": {
    "deletable": true,
    "editable": true
   },
   "source": [
    "\n",
    "The axes have more informative names, but their readability can be improved by\n",
    "increasing the font size. While we are at it, we'll also change the font family:\n",
    "\n"
   ]
  },
  {
   "cell_type": "code",
   "execution_count": null,
   "metadata": {
    "Rmd_chunk_options": "number_species_year_with_right_labels_xfont_size, purl=FALSE",
    "autoscroll": false,
    "collapsed": false,
    "deletable": true,
    "editable": true
   },
   "outputs": [],
   "source": [
    "ggplot( aes(x = \"year\", y = \"n\", color = \"sex\", group = \"sex\"),data = yearly_sex_counts) + \\\n",
    "    geom_line() + \\\n",
    "    facet_wrap( \"species_id\" ) + \\\n",
    "    theme_bw() + \\\n",
    "    theme(axis_title_x = element_text(size=16, family=\"Arial\"),\n",
    "         axis_title_y = element_text(size=16, family=\"Arial\")) + \\\n",
    "    labs(title = 'Observed species in time',\n",
    "        x = 'Year of observation',\n",
    "        y = 'Number of species')"
   ]
  },
  {
   "cell_type": "markdown",
   "metadata": {
    "deletable": true,
    "editable": true
   },
   "source": [
    "\n",
    "After our manipulations we notice that the values on the x-axis are still not\n",
    "properly readable. Let's change the orientation of the labels and adjust them\n",
    "vertically and horizontally so they don't overlap. You can use a 90 degree\n",
    "angle, or experiment to find the appropriate angle for diagonally oriented\n",
    "labels.\n",
    "\n"
   ]
  },
  {
   "cell_type": "code",
   "execution_count": null,
   "metadata": {
    "Rmd_chunk_options": "number_species_year_with_right_labels_xfont_size, purl=FALSE",
    "autoscroll": false,
    "collapsed": false,
    "deletable": true,
    "editable": true
   },
   "outputs": [],
   "source": [
    "ggplot( aes(x = \"year\", y = \"n\", color = \"sex\", group = \"sex\"),data = yearly_sex_counts) + \\\n",
    "    geom_line() + \\\n",
    "    facet_wrap( \"species_id\" ) + \\\n",
    "    labs(title = 'Observed species in time',\n",
    "        x = 'Year of observation',\n",
    "        y = 'Number of species') + \\\n",
    "    theme_bw() + \\\n",
    "    theme(axis_text_x = element_text(color=\"grey\", size=10, angle=90, hjust=.5, vjust=.5),\n",
    "          axis_text_y = element_text(color=\"grey\", size=10, hjust=0),\n",
    "         ) "
   ]
  },
  {
   "cell_type": "markdown",
   "metadata": {
    "deletable": true,
    "editable": true
   },
   "source": [
    "\n",
    "If you like the changes you created to the default theme, you can save them as\n",
    "an object to easily apply them to other plots you may create:\n",
    "\n",
    "\n"
   ]
  },
  {
   "cell_type": "code",
   "execution_count": null,
   "metadata": {
    "Rmd_chunk_options": "number_species_year_with_right_labels_xfont_orientation, purl=FALSE",
    "autoscroll": false,
    "collapsed": false,
    "deletable": true,
    "editable": true
   },
   "outputs": [],
   "source": [
    "arial_grey_theme = theme(axis_text_x = element_text(color=\"grey\", size=10, angle=90, hjust=.5, vjust=.5),\n",
    "                          axis_text_y = element_text(color=\"grey\", size=10))\n",
    "ggplot(surveys_complete, aes(x = 'species_id', y = 'hindfoot_length')) + \\\n",
    "    geom_boxplot() + \\\n",
    "    arial_grey_theme"
   ]
  },
  {
   "cell_type": "markdown",
   "metadata": {
    "deletable": true,
    "editable": true
   },
   "source": [
    "\n",
    "With all of this information in hand, please take another five minutes to either\n",
    "improve one of the plots generated in this exercise or create a beautiful graph\n",
    "of your own. Use the RStudio ggplot2 cheat sheet, which we linked earlier for\n",
    "inspiration.\n",
    "\n",
    "Here are some ideas:\n",
    "\n",
    "* See if you can change thickness of the lines.\n",
    "* Can you find a way to change the name of the legend? What about its labels?\n",
    "* Use a different color palette (see http://www.cookbook-r.com/Graphs/Colors_(ggplot2)/)\n",
    "\n",
    "After creating your plot, you can save it to a file in your favourite format.\n",
    "You can easily change the dimension (and its resolution) of your plot by\n",
    "adjusting the appropriate arguments (`width`, `height` and `dpi`):\n",
    "\n"
   ]
  },
  {
   "cell_type": "code",
   "execution_count": null,
   "metadata": {
    "Rmd_chunk_options": "ggsave-example, eval=FALSE, purl=FALSE",
    "autoscroll": false,
    "collapsed": false,
    "deletable": true,
    "editable": true
   },
   "outputs": [],
   "source": [
    "my_plot =  ggplot(yearly_sex_counts, aes(x = \"year\", y = \"n\", color = \"sex\", group = \"sex\")) \n",
    "my_plot += geom_line() \n",
    "my_plot += facet_wrap(\"species_id\") \n",
    "my_plot += labs(title = 'Observed species in time',\n",
    "                x = 'Year of observation',\n",
    "                y = 'Number of species') \n",
    "my_plot += theme_bw() \n",
    "my_plot += theme(axis_text_x = element_text(color=\"grey\", size=10, angle=90, hjust=.5, vjust=.5),\n",
    "                        axis_text_y = element_text(color=\"grey\", size=10))\n",
    "my_plot.save(\"name_of_file.png\", width=15, height=10)"
   ]
  },
  {
   "cell_type": "code",
   "execution_count": null,
   "metadata": {
    "Rmd_chunk_options": "eval=FALSE, purl=TRUE, echo=FALSE",
    "autoscroll": false,
    "collapsed": true,
    "deletable": true,
    "editable": true
   },
   "outputs": [],
   "source": [
    "## Final plotting challenge:\n",
    "##  With all of this information in hand, please take another five\n",
    "##  minutes to either improve one of the plots generated in this\n",
    "##  exercise or create a beautiful graph of your own. Use the RStudio\n",
    "##  ggplot2 cheat sheet for inspiration:\n",
    "##  https://www.rstudio.com/wp-content/uploads/2015/08/ggplot2-cheatsheet.pdf\n"
   ]
  }
 ],
 "metadata": {
  "Rmd_header": {
   "layout": "topic",
   "minutes": 60,
   "subtitle": "Visualizing data in R with the ggplot2 package",
   "title": "Data visualization with ggplot2"
  },
  "_draft": {
   "nbviewer_url": "https://gist.github.com/7e01571f0b181ec58e4880ef2a50aaa7"
  },
  "gist": {
   "data": {
    "description": "SWC/python-ecology-lesson/09-visualization-ggplot.ipynb",
    "public": true
   },
   "id": "7e01571f0b181ec58e4880ef2a50aaa7"
  },
  "kernelspec": {
   "display_name": "Python 3",
   "language": "python",
   "name": "python3"
  },
  "language_info": {
   "codemirror_mode": {
    "name": "ipython",
    "version": 3
   },
   "file_extension": ".py",
   "mimetype": "text/x-python",
   "name": "python",
   "nbconvert_exporter": "python",
   "pygments_lexer": "ipython3",
   "version": "3.6.0"
  },
  "latex_envs": {
   "bibliofile": "biblio.bib",
   "cite_by": "apalike",
   "current_citInitial": 1,
   "eqLabelWithNumbers": true,
   "eqNumInitial": 0
  },
  "toc": {
   "toc_cell": true,
   "toc_number_sections": true,
   "toc_section_display": "block",
   "toc_threshold": 6,
   "toc_window_display": true
  },
  "toc_position": {
   "height": "170px",
   "left": "1318.03px",
   "right": "20px",
   "top": "293px",
   "width": "186px"
  }
 },
 "nbformat": 4,
 "nbformat_minor": 0
}
